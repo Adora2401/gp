{
 "cells": [
  {
   "cell_type": "code",
   "execution_count": 1,
   "id": "fb34dbfa",
   "metadata": {},
   "outputs": [],
   "source": [
    "import numpy as np\n",
    "import igl\n",
    "import meshplot as mp\n",
    "from scipy.spatial.transform import Rotation\n",
    "import ipywidgets as iw\n",
    "import time\n",
    "from scipy.sparse.linalg import spsolve"
   ]
  },
  {
   "cell_type": "code",
   "execution_count": 2,
   "id": "b32cefde",
   "metadata": {},
   "outputs": [],
   "source": [
    "# #This is the input for hand\n",
    "# v, f = igl.read_triangle_mesh('data/hand.off')\n",
    "# labels = np.load('data/hand.label.npy').astype(int)\n",
    "# v -= v.min(axis=0)\n",
    "# v /= v.max()"
   ]
  },
  {
   "cell_type": "code",
   "execution_count": 3,
   "id": "1637f410",
   "metadata": {},
   "outputs": [],
   "source": [
    "#This is the input for woody, try with woody first, 2D is faster\n",
    "v, f = igl.read_triangle_mesh('data/woody-hi.off')\n",
    "labels = np.load('data/woody-hi.label.npy').astype(int)\n",
    "v -= v.min(axis=0)\n",
    "v /= v.max()"
   ]
  },
  {
   "cell_type": "markdown",
   "id": "9be053fc",
   "metadata": {},
   "source": [
    "## Step 1-1: select and deform the handle regions, done by Prof"
   ]
  },
  {
   "cell_type": "code",
   "execution_count": 4,
   "id": "c38f6730",
   "metadata": {},
   "outputs": [],
   "source": [
    "handle_vertex_positions = v.copy() #This is the first step to select and deform the handle regions\n",
    "v_smooth = handle_vertex_positions.copy()\n",
    "pos_f_saver = np.zeros((labels.max() + 1, 6))\n",
    "def pos_f(s,x,y,z, α, β, γ):\n",
    "    slices = (labels==s)\n",
    "    r = Rotation.from_euler('xyz', [α, β, γ], degrees=True)\n",
    "    v_slice = v[slices] + np.array([[x,y,z]])\n",
    "    center = v_slice.mean(axis=0)\n",
    "    handle_vertex_positions[slices] = r.apply(v_slice - center) + center\n",
    "    pos_f_saver[s - 1] = [x,y,z,α,β,γ]\n",
    "    t0 = time.time()\n",
    "    v_deformed = pos_f.deformer(handle_vertex_positions)\n",
    "    p.update_object(vertices = v_deformed)\n",
    "    t1 = time.time()\n",
    "    print('FPS', 1/(t1 - t0))\n",
    "pos_f.deformer = lambda x:x"
   ]
  },
  {
   "cell_type": "code",
   "execution_count": 5,
   "id": "b8d88c11",
   "metadata": {},
   "outputs": [],
   "source": [
    "def widgets_wrapper():\n",
    "    segment_widget = iw.Dropdown(options=np.arange(labels.max()) + 1)\n",
    "    translate_widget = {i:iw.FloatSlider(min=-1, max=1, value=0) \n",
    "                        for i in 'xyz'}\n",
    "    rotate_widget = {a:iw.FloatSlider(min=-90, max=90, value=0, step=1) \n",
    "                     for a in 'αβγ'}\n",
    "\n",
    "    def update_seg(*args):\n",
    "        (translate_widget['x'].value,translate_widget['y'].value,\n",
    "        translate_widget['z'].value,\n",
    "        rotate_widget['α'].value,rotate_widget['β'].value,\n",
    "        rotate_widget['γ'].value) = pos_f_saver[segment_widget.value]\n",
    "    segment_widget.observe(update_seg, 'value')\n",
    "    widgets_dict = dict(s=segment_widget)\n",
    "    widgets_dict.update(translate_widget)\n",
    "    widgets_dict.update(rotate_widget)\n",
    "    return widgets_dict"
   ]
  },
  {
   "cell_type": "code",
   "execution_count": 6,
   "id": "205b9bfd",
   "metadata": {},
   "outputs": [],
   "source": [
    "# ## Widget UI\n",
    "# ## Original Plot for hand.off and plot after smoothing\n",
    "\n",
    "# p = mp.plot(handle_vertex_positions, f, c=labels)\n",
    "# iw.interact(pos_f,\n",
    "#             **widgets_wrapper())"
   ]
  },
  {
   "cell_type": "markdown",
   "id": "1813737d",
   "metadata": {},
   "source": [
    "### Step 1-1-Plot: The initial plot for woody"
   ]
  },
  {
   "cell_type": "code",
   "execution_count": 10,
   "id": "45fce90a",
   "metadata": {},
   "outputs": [
    {
     "data": {
      "application/vnd.jupyter.widget-view+json": {
       "model_id": "860a735d5e4b4b8087883cb8735ee4ee",
       "version_major": 2,
       "version_minor": 0
      },
      "text/plain": [
       "Renderer(camera=PerspectiveCamera(children=(DirectionalLight(color='white', intensity=0.6, position=(0.4306930…"
      ]
     },
     "metadata": {},
     "output_type": "display_data"
    },
    {
     "data": {
      "application/vnd.jupyter.widget-view+json": {
       "model_id": "b4025d8709294825a57d134f338b7d6c",
       "version_major": 2,
       "version_minor": 0
      },
      "text/plain": [
       "interactive(children=(Dropdown(description='s', options=(1, 2, 3, 4, 5), value=1), FloatSlider(value=0.0, desc…"
      ]
     },
     "metadata": {},
     "output_type": "display_data"
    },
    {
     "data": {
      "text/plain": [
       "<function __main__.pos_f(s, x, y, z, α, β, γ)>"
      ]
     },
     "execution_count": 10,
     "metadata": {},
     "output_type": "execute_result"
    }
   ],
   "source": [
    "## Widget UI\n",
    "## Plot for the woody-hi.off\n",
    "\n",
    "p = mp.plot(handle_vertex_positions, f, c=labels, shading = {\"wireframe\": True, \"flat\": False})\n",
    "iw.interact(pos_f,\n",
    "            **widgets_wrapper())"
   ]
  },
  {
   "cell_type": "markdown",
   "id": "dc5aeb77",
   "metadata": {},
   "source": [
    "## Step 1-2: Removal of high-frequency details\n",
    "### What I need to do:\n",
    "1. express Lw, M-1\n",
    "2. use the similar solution in assign4 to add constraints"
   ]
  },
  {
   "cell_type": "code",
   "execution_count": 8,
   "id": "e8abe847",
   "metadata": {},
   "outputs": [
    {
     "data": {
      "application/vnd.jupyter.widget-view+json": {
       "model_id": "d54507dc4d7e458dafdeebf7c95cf2f4",
       "version_major": 2,
       "version_minor": 0
      },
      "text/plain": [
       "Renderer(camera=PerspectiveCamera(children=(DirectionalLight(color='white', intensity=0.6, position=(0.4306930…"
      ]
     },
     "metadata": {},
     "output_type": "display_data"
    }
   ],
   "source": [
    "import scipy.sparse as sp\n",
    "Lw = igl.cotmatrix(v, f)\n",
    "M = igl.massmatrix(v, f, igl.MASSMATRIX_TYPE_BARYCENTRIC)\n",
    "M_inverse = sp.diags(1 / M.data)\n",
    "\n",
    "A = Lw @ M_inverse @ Lw\n",
    "Aff = A[labels==0, :][:, labels==0]\n",
    "Afc = A[labels==0, :][:, labels>0]\n",
    "xc = v_smooth[labels>0, :]\n",
    "x = sp.linalg.spsolve(Aff, -Afc @ xc)\n",
    "v_smooth[labels==0] = x\n",
    "p = mp.plot(v_smooth, f, c=labels, shading = {\"wireframe\": True, \"flat\": False})\n",
    "# p = mp.plot(v_smooth, f, c=labels)"
   ]
  },
  {
   "cell_type": "markdown",
   "id": "05c67f39",
   "metadata": {},
   "source": [
    "## Step 2: Deforming the smooth mesh\n",
    "1. di = vis - viB (B is the smoothed one) so di is just the same shape with v\n",
    "2. rotate the the details di with mesh B  \n",
    "    2.1 Calculate normal ni (for surface B)  \n",
    "    2.2 Project all neighboring vertices to the tangent plane (perpendicular to ni)  \n",
    "    2.3 Find neighbor j* for which projected edge (i, j) is longest. Normalize this edge vector and call it xi.  \n",
    "    2.4 Construct yi using the cross product, completing orthonormal frame (xi, yi, ni) \n",
    "3. di = dixxi + diyyi + dinni  inner products."
   ]
  },
  {
   "cell_type": "code",
   "execution_count": 9,
   "id": "4e6005f9",
   "metadata": {},
   "outputs": [
    {
     "data": {
      "application/vnd.jupyter.widget-view+json": {
       "model_id": "e7bd1fcd56d24f20af1c321e15887406",
       "version_major": 2,
       "version_minor": 0
      },
      "text/plain": [
       "Renderer(camera=PerspectiveCamera(children=(DirectionalLight(color='white', intensity=0.6, position=(0.4306930…"
      ]
     },
     "metadata": {},
     "output_type": "display_data"
    }
   ],
   "source": [
    "#B'\n",
    "xc_2 = handle_vertex_positions[labels>0, :]\n",
    "x_2 = sp.linalg.spsolve(Aff, -Afc @ xc_2)\n",
    "v_smooth_2 = handle_vertex_positions\n",
    "v_smooth_2[labels==0] = x_2\n",
    "p_2 = mp.plot(v_smooth_2, f, c=labels, shading = {\"wireframe\": True, \"flat\": False})\n",
    "# p_2 = mp.plot(v_smooth_2, f, c=labels)"
   ]
  },
  {
   "cell_type": "code",
   "execution_count": 10,
   "id": "ad156f52",
   "metadata": {},
   "outputs": [],
   "source": [
    "def construct_mesh_details(v_sm):\n",
    "    d = v - v_sm\n",
    "    # print(d.shape, v.shape)\n",
    "    normals = igl.per_vertex_normals(v_sm, f)\n",
    "    neighs = igl.adjacency_list(f)\n",
    "    j_longest = np.zeros(v.shape[0], dtype=np.int16)\n",
    "    di = np.zeros_like(v)\n",
    "\n",
    "    for i in range(v.shape[0]):\n",
    "        ni = normals[i]\n",
    "        i_j = v_sm[neighs[i]] - v_sm[i]\n",
    "        projected_edges = i_j - i_j @ ni[:, None] * ni\n",
    "        neighs_index = np.argmax(np.linalg.norm(projected_edges, axis=1))\n",
    "        j_longest[i] = neighs[i][neighs_index]\n",
    "        xi = projected_edges[neighs_index]\n",
    "        xi /= np.linalg.norm(xi)\n",
    "        yi = np.cross(ni, xi)\n",
    "        di[i] = np.array([d[i] @ xi, d[i] @ yi, d[i] @ ni])\n",
    "    return di, j_longest\n"
   ]
  },
  {
   "cell_type": "code",
   "execution_count": 11,
   "id": "61c8e75c",
   "metadata": {},
   "outputs": [],
   "source": [
    "#caculate for mesh B\n",
    "di_B, j_longest_B = construct_mesh_details(v_smooth)\n",
    "#caculate for mesh B'\n",
    "di_B_2, j_longest_B_2 = construct_mesh_details(v_smooth_2)"
   ]
  },
  {
   "cell_type": "markdown",
   "id": "908f37f6",
   "metadata": {},
   "source": [
    "# Step 3: Transferring high-frequency details to the deformed surface  \n",
    "1. The unit vertex normal  \n",
    "2. The normalized projection of one of 's outgoing edges onto the tangent plane defined by the vertex normal. A stable choice is the edge whose projection onto the tangent plane is longest.  \n",
    "3. The cross-product between (1) and (2)"
   ]
  },
  {
   "cell_type": "code",
   "execution_count": 12,
   "id": "56f665e1",
   "metadata": {},
   "outputs": [],
   "source": [
    "# v_detailed_2 = v_smooth_2.copy()\n",
    "# ni= igl.per_vertex_normals(v_smooth_2, f)\n",
    "# print(v_smooth_2.shape)\n",
    "# print((ni*(np.sum(v_smooth_2 * ni, axis=1).reshape(-1, 1))).shape)"
   ]
  },
  {
   "cell_type": "code",
   "execution_count": 13,
   "id": "85a917d3",
   "metadata": {},
   "outputs": [],
   "source": [
    "def transfer_details(v_sm, di, j_longest):\n",
    "    di_new = np.zeros_like(di)\n",
    "    v_detailed = v_sm.copy()\n",
    "    ni = igl.per_vertex_normals(v_sm, f)\n",
    "    edges = v_sm[j_longest] - v_sm\n",
    "    xi = np.zeros_like(ni)\n",
    "    xi = edges - ni*(np.sum(edges * ni, axis=1).reshape(-1, 1))\n",
    "    xi /= np.linalg.norm(xi).reshape(-1, 1)\n",
    "    yi = np.cross(ni, xi)\n",
    "    for i in range(v.shape[0]):\n",
    "#         di_new[i] = np.array([di[i] @ xi, di[i] @ yi, di[i] @ ni])\n",
    "        di_new[i] = di[i] @ np.vstack((xi[i], yi[i], ni[i]))\n",
    "    v_detailed += di_new    \n",
    "    return v_detailed"
   ]
  },
  {
   "cell_type": "code",
   "execution_count": 14,
   "id": "dae0d1b8",
   "metadata": {},
   "outputs": [],
   "source": [
    "# v_detailed_2 = transfer_details(v_smooth_2,di_B_2,j_longest_B_2)\n",
    "# p_3 = mp.plot(v_detailed_2, f, c=labels)\n",
    "# iw.interact(pos_f,\n",
    "#             **widgets_wrapper())"
   ]
  },
  {
   "cell_type": "code",
   "execution_count": 15,
   "id": "b7386dde",
   "metadata": {},
   "outputs": [
    {
     "data": {
      "application/vnd.jupyter.widget-view+json": {
       "model_id": "20e9678e08c041c285dca88185ea1694",
       "version_major": 2,
       "version_minor": 0
      },
      "text/plain": [
       "Renderer(camera=PerspectiveCamera(children=(DirectionalLight(color='white', intensity=0.6, position=(0.4306930…"
      ]
     },
     "metadata": {},
     "output_type": "display_data"
    },
    {
     "data": {
      "application/vnd.jupyter.widget-view+json": {
       "model_id": "b49b5307c6744a0f9bcd2c8b2d94b7b3",
       "version_major": 2,
       "version_minor": 0
      },
      "text/plain": [
       "interactive(children=(Dropdown(description='s', options=(1, 2, 3, 4, 5), value=1), FloatSlider(value=0.0, desc…"
      ]
     },
     "metadata": {},
     "output_type": "display_data"
    },
    {
     "data": {
      "text/plain": [
       "<function __main__.pos_f(s, x, y, z, α, β, γ)>"
      ]
     },
     "execution_count": 15,
     "metadata": {},
     "output_type": "execute_result"
    }
   ],
   "source": [
    "#for woody\n",
    "v_detailed_2 = transfer_details(v_smooth_2,di_B_2,j_longest_B_2)\n",
    "p_3 = mp.plot(v_detailed_2, f, c=labels, shading = {\"wireframe\": True, \"flat\": False})\n",
    "iw.interact(pos_f,\n",
    "            **widgets_wrapper())"
   ]
  },
  {
   "cell_type": "markdown",
   "id": "4a67a39a",
   "metadata": {},
   "source": [
    "# Performance"
   ]
  },
  {
   "cell_type": "code",
   "execution_count": 16,
   "id": "bf0b71b7",
   "metadata": {},
   "outputs": [
    {
     "data": {
      "application/vnd.jupyter.widget-view+json": {
       "model_id": "a889b109d15d4338bc7e11f4c84a937f",
       "version_major": 2,
       "version_minor": 0
      },
      "text/plain": [
       "Renderer(camera=PerspectiveCamera(children=(DirectionalLight(color='white', intensity=0.6, position=(0.4306930…"
      ]
     },
     "metadata": {},
     "output_type": "display_data"
    }
   ],
   "source": [
    "from scipy.linalg import cho_factor, cho_solve\n",
    "c, lower = cho_factor(Aff.todense(), lower=True)\n",
    "xc = handle_vertex_positions[labels>0, :]\n",
    "x = cho_solve((c, lower), -Afc @ xc)\n",
    "v_smooth_fast = handle_vertex_positions.copy() #B\n",
    "v_smooth_fast[labels==0] = x\n",
    "p = mp.plot(v_smooth_fast, f, c=labels)"
   ]
  },
  {
   "cell_type": "code",
   "execution_count": 17,
   "id": "64a5e9c6",
   "metadata": {},
   "outputs": [
    {
     "data": {
      "application/vnd.jupyter.widget-view+json": {
       "model_id": "e644aaf3aef04a71b6232c451411ccd8",
       "version_major": 2,
       "version_minor": 0
      },
      "text/plain": [
       "Renderer(camera=PerspectiveCamera(children=(DirectionalLight(color='white', intensity=0.6, position=(0.4306930…"
      ]
     },
     "metadata": {},
     "output_type": "display_data"
    }
   ],
   "source": [
    "#B'\n",
    "xc_2 = handle_vertex_positions[labels>0, :]\n",
    "x_2 = cho_solve((c, lower), -Afc @ xc)\n",
    "v_smooth_2_fast = handle_vertex_positions\n",
    "v_smooth_2_fast[labels==0] = x_2\n",
    "# p_2_fast = mp.plot(v_smooth_2, f, c=labels, shading = {\"wireframe\": True, \"flat\": False})\n",
    "p_2_fast = mp.plot(v_smooth_2_fast, f, c=labels)"
   ]
  },
  {
   "cell_type": "code",
   "execution_count": 18,
   "id": "65b0ad83",
   "metadata": {},
   "outputs": [],
   "source": [
    "#caculate for mesh B\n",
    "di_B_fast, j_longest_B_fast = construct_mesh_details(v_smooth_fast)\n",
    "#caculate for mesh B'\n",
    "di_B_2_fast, j_longest_B_2_fast = construct_mesh_details(v_smooth_2_fast)"
   ]
  },
  {
   "cell_type": "code",
   "execution_count": 19,
   "id": "c0df57b8",
   "metadata": {},
   "outputs": [],
   "source": [
    "# edges = v_smooth_2_fast[j_longest_B_2_fast] - v_smooth_2_fast\n",
    "# ni = igl.per_vertex_normals(v_smooth_2_fast, f)\n",
    "# print(edges.shape,ni.shape)\n",
    "# print(np.einsum('ij,ij->i', edges, ni).reshape(-1, 1).shape)\n",
    "# einsum is new, and is presumably trying to be better about cache alignment and other memory access issues, \n",
    "# while many of the older numpy functions focus on a easily portable implementation over a heavily optimized one. "
   ]
  },
  {
   "cell_type": "code",
   "execution_count": 20,
   "id": "f9df3f1f",
   "metadata": {},
   "outputs": [],
   "source": [
    "def transfer_details_fast(v_sm, di, j_longest):\n",
    "    di_new = np.zeros_like(di)\n",
    "    v_detailed = v_sm.copy()\n",
    "    ni = igl.per_vertex_normals(v_sm, f)\n",
    "    edges = v_sm[j_longest] - v_sm\n",
    "    xi = np.zeros_like(ni)\n",
    "#     xi = edges - ni*(np.sum(edges * ni, axis=1).reshape(-1, 1))\n",
    "    xi = edges - ni*(np.einsum('ij,ij->i', edges, ni).reshape(-1, 1))\n",
    "    xi /= np.linalg.norm(xi).reshape(-1, 1)\n",
    "    yi = np.cross(ni, xi)\n",
    "    for i in range(v.shape[0]):\n",
    "#         di_new[i] = np.array([di[i] @ xi, di[i] @ yi, di[i] @ ni])\n",
    "        di_new[i] = np.einsum('i,ij',di[i],np.vstack((xi[i], yi[i], ni[i])))\n",
    "    v_detailed += di_new    \n",
    "    return v_detailed"
   ]
  },
  {
   "cell_type": "code",
   "execution_count": 21,
   "id": "449ac72d",
   "metadata": {},
   "outputs": [],
   "source": [
    "v_detailed_2_fast = transfer_details_fast(v_smooth_2_fast,di_B_2_fast,j_longest_B_2_fast)"
   ]
  },
  {
   "cell_type": "code",
   "execution_count": 22,
   "id": "db07e10e",
   "metadata": {},
   "outputs": [
    {
     "data": {
      "application/vnd.jupyter.widget-view+json": {
       "model_id": "bd56f108e9ea4ae1a4f0c2ca84c49157",
       "version_major": 2,
       "version_minor": 0
      },
      "text/plain": [
       "Renderer(camera=PerspectiveCamera(children=(DirectionalLight(color='white', intensity=0.6, position=(0.4306930…"
      ]
     },
     "metadata": {},
     "output_type": "display_data"
    },
    {
     "data": {
      "application/vnd.jupyter.widget-view+json": {
       "model_id": "92f59df0560f48668ac203aff34ad822",
       "version_major": 2,
       "version_minor": 0
      },
      "text/plain": [
       "interactive(children=(Dropdown(description='s', options=(1, 2, 3, 4, 5), value=1), FloatSlider(value=0.0, desc…"
      ]
     },
     "metadata": {},
     "output_type": "display_data"
    },
    {
     "data": {
      "text/plain": [
       "<function __main__.pos_f(s, x, y, z, α, β, γ)>"
      ]
     },
     "execution_count": 22,
     "metadata": {},
     "output_type": "execute_result"
    }
   ],
   "source": [
    "p = mp.plot(v_detailed_2_fast, f, c=labels)\n",
    "iw.interact(pos_f,\n",
    "            **widgets_wrapper())"
   ]
  }
 ],
 "metadata": {
  "kernelspec": {
   "display_name": "Python 3 (ipykernel)",
   "language": "python",
   "name": "python3"
  },
  "language_info": {
   "codemirror_mode": {
    "name": "ipython",
    "version": 3
   },
   "file_extension": ".py",
   "mimetype": "text/x-python",
   "name": "python",
   "nbconvert_exporter": "python",
   "pygments_lexer": "ipython3",
   "version": "3.9.10"
  }
 },
 "nbformat": 4,
 "nbformat_minor": 5
}

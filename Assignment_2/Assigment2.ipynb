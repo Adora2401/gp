{
 "cells": [
  {
   "cell_type": "code",
   "execution_count": 1,
   "metadata": {
    "scrolled": true
   },
   "outputs": [],
   "source": [
    "import numpy as np\n",
    "import igl\n",
    "import meshplot as mp\n",
    "import scipy"
   ]
  },
  {
   "cell_type": "markdown",
   "metadata": {},
   "source": [
    "# Reading point cloud"
   ]
  },
  {
   "cell_type": "code",
   "execution_count": 2,
   "metadata": {},
   "outputs": [
    {
     "name": "stderr",
     "output_type": "stream",
     "text": [
      "/Users/yinuochang/miniforge3/envs/gm2022/lib/python3.9/site-packages/jupyter_client/session.py:716: UserWarning: Message serialization failed with:\n",
      "Out of range float values are not JSON compliant\n",
      "Supporting this message is deprecated in jupyter-client 7, please make sure your message is JSON-compliant\n",
      "  content = self.pack(content)\n"
     ]
    },
    {
     "data": {
      "application/vnd.jupyter.widget-view+json": {
       "model_id": "679fe512c95b4e11966ad24dda408aa8",
       "version_major": 2,
       "version_minor": 0
      },
      "text/plain": [
       "Renderer(camera=PerspectiveCamera(children=(DirectionalLight(color='white', intensity=0.6, position=(5.0, -23.…"
      ]
     },
     "metadata": {},
     "output_type": "display_data"
    },
    {
     "data": {
      "text/plain": [
       "<meshplot.Viewer.Viewer at 0x1111fcfa0>"
      ]
     },
     "execution_count": 2,
     "metadata": {},
     "output_type": "execute_result"
    }
   ],
   "source": [
    "pi, v = igl.read_triangle_mesh(\"data/cat.off\")\n",
    "pi /= 10\n",
    "ni = igl.per_vertex_normals(pi, v)\n",
    "mp.plot(pi, shading={\"point_size\": 8})"
   ]
  },
  {
   "cell_type": "markdown",
   "metadata": {},
   "source": [
    "# Setting up the Constraints"
   ]
  },
  {
   "cell_type": "code",
   "execution_count": 3,
   "metadata": {},
   "outputs": [],
   "source": [
    "# use KD-Tree to find the nearest neigbor\n",
    "from scipy.spatial import KDTree\n",
    "tree = KDTree(pi, leafsize=pi.shape[0]+1)\n",
    "def find_closed_point(point, points):\n",
    "    distances, ndx = tree.query([point], k=2)\n",
    "    return ndx[0,1]     "
   ]
  },
  {
   "cell_type": "code",
   "execution_count": 4,
   "metadata": {},
   "outputs": [],
   "source": [
    "def setUpConstraints(pi,ni):\n",
    "    #use to store the pis and target values\n",
    "    #*3 for f(pi) f(pi+) f(pi-)\n",
    "    size = pi.shape[0]\n",
    "    constrained_pi, target_v = np.zeros((size* 3, 3)), np.zeros((size * 3))\n",
    "    for i in range(size):\n",
    "        #Fix an eps value, for instance eps = 0.01 bounding_box_diagonal\n",
    "        eps = 0.01 * igl.bounding_box_diagonal(pi)\n",
    "        eps_plus = eps\n",
    "        eps_minus = eps\n",
    "        #For each point pi in the point cloud, add a constraint of the form f(pi) = di = 0.\n",
    "        constrained_pi[i] = pi[i]\n",
    "        target_v[i] = 0\n",
    "        #For each point pi compute pi+ = pi + eps ni, where ni is the normalized normal of pi. Check that pi is the closest point to pi+ if not, halve esp and recompute pi+ until this is the case. Then, add another constraint equation: f(pi+) = eps.\n",
    "        constrained_pi[i + size] = pi[i] + eps * ni[i]\n",
    "        if find_closed_point(constrained_pi[i + size],pi) != i:\n",
    "            eps_plus = 0.5 * eps\n",
    "        constrained_pi[i + size] = pi[i] + eps_plus * ni[i]\n",
    "        target_v[i + size] =  eps_plus\n",
    "        \n",
    "        #Repeat the same process for -eps, i.e., add equations of the form f(pi-) = -eps. Do not forget to check each time that pi is the closest point to pi-.\n",
    "        constrained_pi[i + 2*size] = pi[i] - eps * ni[i]\n",
    "        if find_closed_point(constrained_pi[i + 2*size],pi) != i:\n",
    "            eps_minus = 0.5 * eps\n",
    "        constrained_pi[i + 2*size] = pi[i] - eps_minus * ni[i]\n",
    "        target_v[i + 2*size] =  -eps_minus\n",
    "    return constrained_pi, target_v\n",
    "        "
   ]
  },
  {
   "cell_type": "code",
   "execution_count": 5,
   "metadata": {},
   "outputs": [],
   "source": [
    "constrained_pi, target_v = setUpConstraints(pi, ni)"
   ]
  },
  {
   "cell_type": "code",
   "execution_count": 6,
   "metadata": {},
   "outputs": [
    {
     "name": "stderr",
     "output_type": "stream",
     "text": [
      "/Users/yinuochang/miniforge3/envs/gm2022/lib/python3.9/site-packages/jupyter_client/session.py:716: UserWarning: Message serialization failed with:\n",
      "Out of range float values are not JSON compliant\n",
      "Supporting this message is deprecated in jupyter-client 7, please make sure your message is JSON-compliant\n",
      "  content = self.pack(content)\n"
     ]
    },
    {
     "data": {
      "application/vnd.jupyter.widget-view+json": {
       "model_id": "b5acf4cf98a141949e888f95d98c4bd5",
       "version_major": 2,
       "version_minor": 0
      },
      "text/plain": [
       "Renderer(camera=PerspectiveCamera(children=(DirectionalLight(color='white', intensity=0.6, position=(5.0, -23.…"
      ]
     },
     "metadata": {},
     "output_type": "display_data"
    },
    {
     "data": {
      "application/vnd.jupyter.widget-view+json": {
       "model_id": "efb4032f55ab44988713fb9e3f2d987a",
       "version_major": 2,
       "version_minor": 0
      },
      "text/plain": [
       "Renderer(camera=PerspectiveCamera(children=(DirectionalLight(color='white', intensity=0.6, position=(5.0060472…"
      ]
     },
     "metadata": {},
     "output_type": "display_data"
    },
    {
     "data": {
      "text/plain": [
       "<meshplot.Viewer.Viewer at 0x165d75940>"
      ]
     },
     "execution_count": 6,
     "metadata": {},
     "output_type": "execute_result"
    }
   ],
   "source": [
    "color_map = np.zeros(constrained_pi.shape)\n",
    "size = pi.shape[0]\n",
    "color_map[0:size] = np.array([0, 0, 1])\n",
    "color_map[size:size*2] = np.array([1, 0, 0])\n",
    "color_map[size*2:size*3] = np.array([124/255, 252/255, 0])\n",
    "a = mp.plot(pi, c = np.zeros((pi.shape[0], 3)), shading={\"point_size\": 8})\n",
    "mp.plot(constrained_pi, c = color_map, shading = {\"point_size\": 8})"
   ]
  },
  {
   "cell_type": "markdown",
   "metadata": {},
   "source": [
    "# Use MLS interpolation to extend to function f"
   ]
  },
  {
   "cell_type": "markdown",
   "metadata": {},
   "source": [
    "## Create a grid sampling the 3D space"
   ]
  },
  {
   "cell_type": "code",
   "execution_count": 7,
   "metadata": {},
   "outputs": [],
   "source": [
    "# Utility function to generate a tet grid\n",
    "# n is a 3-tuple with the number of cell in every direction\n",
    "# mmin/mmax are the grid bounding box corners\n",
    "\n",
    "def tet_grid(n, mmin, mmax):\n",
    "    nx = n[0]\n",
    "    ny = n[1]\n",
    "    nz = n[2]\n",
    "    \n",
    "    delta = mmax-mmin\n",
    "    \n",
    "    deltax = delta[0]/(nx-1)\n",
    "    deltay = delta[1]/(ny-1)\n",
    "    deltaz = delta[2]/(nz-1)\n",
    "    \n",
    "    T = np.zeros(((nx-1)*(ny-1)*(nz-1)*6, 4), dtype=np.int64)\n",
    "    V = np.zeros((nx*ny*nz, 3))\n",
    "\n",
    "    mapping = -np.ones((nx, ny, nz), dtype=np.int64)\n",
    "\n",
    "\n",
    "    index = 0\n",
    "    for i in range(nx):\n",
    "        for j in range(ny):\n",
    "            for k in range(nz):\n",
    "                mapping[i, j, k] = index\n",
    "                V[index, :] = [i*deltax, j*deltay, k*deltaz]\n",
    "                index += 1\n",
    "    assert(index == V.shape[0])\n",
    "    \n",
    "    tets = np.array([\n",
    "        [0,1,3,4],\n",
    "        [5,2,6,7],\n",
    "        [4,1,5,3],\n",
    "        [4,3,7,5],\n",
    "        [3,1,5,2],\n",
    "        [2,3,7,5]\n",
    "    ])\n",
    "    \n",
    "    index = 0\n",
    "    for i in range(nx-1):\n",
    "        for j in range(ny-1):\n",
    "            for k in range(nz-1):\n",
    "                indices = [\n",
    "                    (i,   j,   k),\n",
    "                    (i+1, j,   k),\n",
    "                    (i+1, j+1, k),\n",
    "                    (i,   j+1, k),\n",
    "\n",
    "                    (i,   j,   k+1),\n",
    "                    (i+1, j,   k+1),\n",
    "                    (i+1, j+1, k+1),\n",
    "                    (i,   j+1, k+1),\n",
    "                ]\n",
    "                \n",
    "                for t in range(tets.shape[0]):\n",
    "                    tmp = [mapping[indices[ii]] for ii in tets[t, :]]\n",
    "                    T[index, :]=tmp\n",
    "                    index += 1\n",
    "                    \n",
    "    assert(index == T.shape[0])\n",
    "    \n",
    "    V += mmin\n",
    "    return V, T"
   ]
  },
  {
   "cell_type": "markdown",
   "metadata": {},
   "source": [
    "## MLS Interpolation"
   ]
  },
  {
   "cell_type": "markdown",
   "metadata": {},
   "source": [
    "Not using explict method. At a given point xi in x, you evaluate this function by finding the \"optimal\" basis function coefficients (which will vary from point to point!) and using these to combine the basis function values at xi."
   ]
  },
  {
   "cell_type": "code",
   "execution_count": 8,
   "metadata": {},
   "outputs": [],
   "source": [
    "def wendland(r, h): #wr: 19:31\n",
    "    if r<h:\n",
    "        return ((1 - r / h)** 4) * (4 * r / h + 1)\n",
    "    else:\n",
    "        return 0"
   ]
  },
  {
   "cell_type": "code",
   "execution_count": 9,
   "metadata": {},
   "outputs": [],
   "source": [
    "def polyDegree(degree,x):\n",
    "    # x is the grid vertices\n",
    "    basis =  {\n",
    "        0 : np.array([1]),\n",
    "        1 : np.array([1, x[0], x[1], x[2]]),\n",
    "        2 : np.array([1, x[0], x[1], x[2], \n",
    "                      x[0] * x[1], x[1] * x[2], x[0] * x[2], \n",
    "                          x[0] ** 2, x[1] ** 2, x[2] ** 2])\n",
    "    }\n",
    "    return basis.get(degree, \"Set Wrong\")\n",
    "    "
   ]
  },
  {
   "cell_type": "code",
   "execution_count": 10,
   "metadata": {},
   "outputs": [],
   "source": [
    "def closest_points(point, points, h):\n",
    "    #retreives the indices all points in points that are at distance less than h from point.\n",
    "    res = []\n",
    "    x = point[0]\n",
    "    y = point[1]\n",
    "    z = point[2]\n",
    "    for i in range(points.shape[0]):\n",
    "        relx = points[i][0]\n",
    "        rely = points[i][1]\n",
    "        relz = points[i][2]\n",
    "        r2 =  (relx -x)**2 + (rely -y)**2 + (relz -z)**2\n",
    "        if r2 < h**2:\n",
    "            res.append(i)\n",
    "    return res"
   ]
  },
  {
   "cell_type": "code",
   "execution_count": 11,
   "metadata": {},
   "outputs": [
    {
     "data": {
      "text/plain": [
       "[0]"
      ]
     },
     "execution_count": 11,
     "metadata": {},
     "output_type": "execute_result"
    }
   ],
   "source": [
    "closest_points(pi[0],pi,1)"
   ]
  },
  {
   "cell_type": "markdown",
   "metadata": {},
   "source": [
    "# MLS function"
   ]
  },
  {
   "cell_type": "code",
   "execution_count": 12,
   "metadata": {
    "scrolled": true
   },
   "outputs": [],
   "source": [
    "# Parameters\n",
    "bbox_min = np.min(pi, axis = 0)\n",
    "bbox_max = np.max(pi, axis = 0)\n",
    "bbox_diag = np.linalg.norm(bbox_max - bbox_min)\n",
    "\n",
    "n = 10"
   ]
  },
  {
   "cell_type": "markdown",
   "metadata": {},
   "source": [
    "## construct an implicit function for MLS"
   ]
  },
  {
   "cell_type": "code",
   "execution_count": 13,
   "metadata": {},
   "outputs": [],
   "source": [
    "#xi: point; wendlandRadius is also the h in closest_points; constrained_pi[index_after_closed] is p\n",
    "def MLSImplicitFuction(xi, wendlandRadius, poly_degree, constrained_pi, target_v):\n",
    "    if poly_degree == 0:\n",
    "        coef = 1\n",
    "    if poly_degree == 1:\n",
    "        coef = 4\n",
    "    if poly_degree == 2:\n",
    "        coef = 10\n",
    "    iLessh = closest_points(xi, constrained_pi, wendlandRadius)\n",
    "#     if the number of constraint points within wendlandRadius is less than twice the number of polynomial coefficients, \n",
    "# you can assign a large positive (outside) value to the grid point.\n",
    "    if len(iLessh) < 2 * coef:\n",
    "        return 100000\n",
    "    else:\n",
    "        #(BT * W * B)a(x) = BT*W*d\n",
    "        # W = wendland(||xi-c||) norm!!!\n",
    "        # return poly*a(x)\n",
    "        B = np.zeros((len(iLessh), coef))\n",
    "        W = np.eye(len(iLessh))\n",
    "        d = target_v[iLessh]\n",
    "        p = constrained_pi[iLessh]\n",
    "        \n",
    "        for i in range(len(iLessh)):\n",
    "            W[i,i] = wendland(np.linalg.norm(xi - p[i]), wendlandRadius)\n",
    "            B[i] = polyDegree(poly_degree, p[i])\n",
    "        \n",
    "        ax = np.linalg.solve(((B.T).dot(W)).dot(B),((B.T).dot(W)).dot(d))\n",
    "        return polyDegree(poly_degree, xi).dot(ax)\n",
    "\n"
   ]
  },
  {
   "cell_type": "code",
   "execution_count": 14,
   "metadata": {
    "scrolled": true
   },
   "outputs": [],
   "source": [
    "# Generate grid n x n x n\n",
    "# grid vertices x and the tets connecting them T\n",
    "x, T = tet_grid((n, n, n), bbox_min - 0.05 * bbox_diag, bbox_max + 0.05 * bbox_diag)\n",
    "#Compute implicit sphere function\n",
    "center = np.array([0., 0., 0.])\n",
    "radius = bbox_diag * 0.1\n",
    "k = 1\n",
    "# fx = np.linalg.norm(x-center, axis=1) - radius  #This is the initial function we need to change it to the implict one\n",
    "fx = np.array([MLSImplicitFuction(xi, radius, k, constrained_pi, target_v) for xi in x])"
   ]
  },
  {
   "cell_type": "code",
   "execution_count": 16,
   "metadata": {},
   "outputs": [
    {
     "data": {
      "application/vnd.jupyter.widget-view+json": {
       "model_id": "3484ca9bd7da44b68fb427dab080f3fb",
       "version_major": 2,
       "version_minor": 0
      },
      "text/plain": [
       "Renderer(camera=PerspectiveCamera(children=(DirectionalLight(color='white', intensity=0.6, position=(5.0, -23.…"
      ]
     },
     "metadata": {},
     "output_type": "display_data"
    },
    {
     "data": {
      "text/plain": [
       "<meshplot.Viewer.Viewer at 0x1662e3640>"
      ]
     },
     "execution_count": 16,
     "metadata": {},
     "output_type": "execute_result"
    }
   ],
   "source": [
    "# Treshold fx to visualize inside outside\n",
    "color = np.zeros_like(x)\n",
    "color[fx < 0] = np.array([1, 0, 0])\n",
    "color[fx >= 0] = np.array([124/255, 252/255, 0])\n",
    "# ind = np.zeros_like(fx)\n",
    "# ind[fx >= 0] = 1\n",
    "# ind[fx < 0] = -1\n",
    "mp.plot(x, c=color, shading={\"point_size\": 3,\"width\": 800, \"height\": 800})"
   ]
  },
  {
   "cell_type": "markdown",
   "metadata": {},
   "source": [
    "## Implementing a spatial index to accelerate neighbor calculations\n",
    "### use spatial trees to split the space x ??\n",
    "### use regular grid to recalculate"
   ]
  },
  {
   "cell_type": "code",
   "execution_count": 17,
   "metadata": {},
   "outputs": [],
   "source": [
    "def set_newgrid(step, p):\n",
    "    mmax = np.max(p, axis = 0)\n",
    "    mmin = np.min(p, axis = 0)\n",
    "    dim = mmax - mmin\n",
    "    diag = np.linalg.norm(dim)\n",
    "    grid_step = step * diag\n",
    "    units_size = np.zeros(3)\n",
    "    units_size = np.ceil(dim / grid_step)\n",
    "    newgrid_size = int(np.prod(units_size))\n",
    "    newgrid = [[] for i in range(newgrid_size)]\n",
    "    \n",
    "    for i in range(p.shape[0]):\n",
    "        p_dist = np.zeros(3)\n",
    "        p_dist = np.floor((p[i] - mmin) / grid_step)\n",
    "        index = int(p_dist[0] + units_size[0] * p_dist[1] + units_size[0] * units_size[1] * p_dist[2])\n",
    "        newgrid[index].append(i)\n",
    "    \n",
    "    return newgrid, units_size, grid_step"
   ]
  },
  {
   "cell_type": "code",
   "execution_count": 18,
   "metadata": {},
   "outputs": [],
   "source": [
    "step = 0.1\n",
    "newgrid, units_size, grid_step = set_newgrid(step, pi)"
   ]
  },
  {
   "cell_type": "code",
   "execution_count": 19,
   "metadata": {},
   "outputs": [],
   "source": [
    "def acc_find_closed_point(p, points, newgrid, units_size, grid_step):\n",
    "    closest_i = 0\n",
    "    min_val = 10000\n",
    "    mmin = np.min(points, axis = 0)\n",
    "    p_dist = np.zeros(3)\n",
    "    p_dist = np.floor((p - mmin) / grid_step)\n",
    "\n",
    "    check_distance = 1 \n",
    "#     min_Block_offset = np.ceil(p_dist - check_distance)\n",
    "#     min_Block_offset[min_Block_offset<0] = 0\n",
    "    min_Block_offset_x = int(max(0, p_dist[0] - check_distance))\n",
    "    min_Block_offset_y = int(max(0, p_dist[1] - check_distance))\n",
    "    min_Block_offset_z = int(max(0, p_dist[2] - check_distance))\n",
    "    max_Block_offset_x = int(min(p_dist[0] + 1 + check_distance, units_size[0]))\n",
    "    max_Block_offset_y = int(min(p_dist[1] + 1 + check_distance, units_size[1]))\n",
    "    max_Block_offset_z = int(min(p_dist[2] + 1 + check_distance, units_size[2]))\n",
    "\n",
    "   # find out if there's better solution ? No need not O(n^4)\n",
    "    for i in range(min_Block_offset_x, max_Block_offset_x):\n",
    "        for j in range(min_Block_offset_y, max_Block_offset_y):\n",
    "            for k in range(min_Block_offset_z, max_Block_offset_z):\n",
    "                index = int(i + units_size[0] * j + units_size[0] * units_size[1] * k)\n",
    "                for q in range(len(newgrid[index])):\n",
    "                    distance = np.linalg.norm(p - points[newgrid[index][q]])\n",
    "                    if distance < min_val:\n",
    "                        closest_i = newgrid[index][q]\n",
    "                        min_val = distance\n",
    "    return closest_i"
   ]
  },
  {
   "cell_type": "code",
   "execution_count": 20,
   "metadata": {},
   "outputs": [],
   "source": [
    "def acc_closest_points(p, points, h, newgrid, units_size, grid_step):\n",
    "    dist_index = []\n",
    "    mmin = np.min(points, axis = 0)\n",
    "    n_ori_points = int(points.shape[0] / 3)\n",
    "    p_dist = np.zeros(3)\n",
    "    p_dist = np.floor((p - mmin) / grid_step)\n",
    "\n",
    "    check_distance = 1\n",
    "    min_Block_offset_x = int(max(0, p_dist[0] - check_distance))\n",
    "    min_Block_offset_y = int(max(0, p_dist[1] - check_distance))\n",
    "    min_Block_offset_z = int(max(0, p_dist[2] - check_distance))\n",
    "    max_Block_offset_x = int(min(p_dist[0] + 1 + check_distance, units_size[0]))\n",
    "    max_Block_offset_y = int(min(p_dist[1] + 1 + check_distance, units_size[1]))\n",
    "    max_Block_offset_z = int(min(p_dist[2] + 1 + check_distance, units_size[2]))\n",
    "    \n",
    "    for i in range(min_Block_offset_x, max_Block_offset_x):\n",
    "        for j in range(min_Block_offset_y, max_Block_offset_y):\n",
    "            for k in range(min_Block_offset_z, max_Block_offset_z):\n",
    "                index = int(i + units_size[0] * j + units_size[0] * units_size[1] * k)\n",
    "                for q in range(len(newgrid[index])):\n",
    "                    \n",
    "                    distance = np.linalg.norm(p - points[newgrid[index][q]])\n",
    "                    if distance < h:\n",
    "                        dist_index.append(newgrid[index][q])\n",
    "                        \n",
    "                    distance = np.linalg.norm(p - points[n_ori_points + newgrid[index][q]])\n",
    "                    if distance < h:\n",
    "                        dist_index.append(n_ori_points + newgrid[index][q])\n",
    "                        \n",
    "                    distance = np.linalg.norm(p - points[n_ori_points * 2 + newgrid[index][q]])\n",
    "                    if distance < h:\n",
    "                        dist_index.append(n_ori_points * 2 + newgrid[index][q])\n",
    "                    \n",
    "    return dist_index"
   ]
  },
  {
   "cell_type": "code",
   "execution_count": 21,
   "metadata": {},
   "outputs": [],
   "source": [
    "def acc_setUpConstraints(pi,ni,newgrid, units_size, grid_step):\n",
    "    #use to store the pis and target values\n",
    "    #*3 for f(pi) f(pi+) f(pi-)\n",
    "    size = pi.shape[0]\n",
    "    constrained_pi, target_v = np.zeros((size* 3, 3)), np.zeros((size * 3))\n",
    "    for i in range(size):\n",
    "        #Fix an eps value, for instance eps = 0.01 bounding_box_diagonal\n",
    "        eps = 0.01 * igl.bounding_box_diagonal(pi)\n",
    "        eps_plus = eps\n",
    "        eps_minus = eps\n",
    "        #For each point pi in the point cloud, add a constraint of the form f(pi) = di = 0.\n",
    "        constrained_pi[i] = pi[i]\n",
    "        target_v[i] = 0\n",
    "        #For each point pi compute pi+ = pi + eps ni, where ni is the normalized normal of pi. Check that pi is the closest point to pi+ if not, halve esp and recompute pi+ until this is the case. Then, add another constraint equation: f(pi+) = eps.\n",
    "        constrained_pi[i + size] = pi[i] + eps * ni[i]\n",
    "        if acc_find_closed_point(constrained_pi[i + size],pi, newgrid, units_size, grid_step) != i:\n",
    "            eps_plus = 0.5 * eps\n",
    "        constrained_pi[i + size] = pi[i] + eps_plus * ni[i]\n",
    "        target_v[i + size] =  eps_plus\n",
    "        \n",
    "        #Repeat the same process for -eps, i.e., add equations of the form f(pi-) = -eps. Do not forget to check each time that pi is the closest point to pi-.\n",
    "        constrained_pi[i + 2*size] = pi[i] - eps * ni[i]\n",
    "        if acc_find_closed_point(constrained_pi[i + 2*size],pi, newgrid, units_size, grid_step) != i:\n",
    "            eps_minus = 0.5 * eps\n",
    "        constrained_pi[i + 2*size] = pi[i] - eps_minus * ni[i]\n",
    "        target_v[i + 2*size] =  -eps_minus\n",
    "    return constrained_pi, target_v\n",
    "        "
   ]
  },
  {
   "cell_type": "code",
   "execution_count": 22,
   "metadata": {},
   "outputs": [],
   "source": [
    "def acc_MLSImplicitFuction(xi, wendlandRadius, poly_degree, constrained_pi, target_v, newgrid, units_size, grid_step):\n",
    "    if poly_degree == 0:\n",
    "        coef = 1\n",
    "    if poly_degree == 1:\n",
    "        coef = 4\n",
    "    if poly_degree == 2:\n",
    "        coef = 10\n",
    "    iLessh = acc_closest_points(xi, constrained_pi, wendlandRadius, newgrid, units_size, grid_step)\n",
    "#     if the number of constraint points within wendlandRadius is less than twice the number of polynomial coefficients, \n",
    "# you can assign a large positive (outside) value to the grid point.\n",
    "    if len(iLessh) < 2 * coef:\n",
    "        return 10000\n",
    "    else:\n",
    "        #(BT * W * B)a(x) = BT*W*d\n",
    "        # W = wendland(||xi-c||) norm!!!\n",
    "        # return poly*a(x)\n",
    "        B = np.zeros((len(iLessh), coef))\n",
    "        W = np.eye(len(iLessh))\n",
    "        d = target_v[iLessh]\n",
    "        p = constrained_pi[iLessh]\n",
    "        \n",
    "        for i in range(len(iLessh)):\n",
    "            W[i,i] = wendland(np.linalg.norm(xi - p[i],2), wendlandRadius)\n",
    "            B[i] = polyDegree(poly_degree, p[i])\n",
    "        \n",
    "        ax = np.linalg.solve(((B.T).dot(W)).dot(B),((B.T).dot(W)).dot(d))\n",
    "        return polyDegree(poly_degree, xi).dot(ax)"
   ]
  },
  {
   "cell_type": "code",
   "execution_count": 23,
   "metadata": {},
   "outputs": [],
   "source": [
    "pi, v = igl.read_triangle_mesh(\"data/cat.off\")\n",
    "pi /= 10\n",
    "ni = igl.per_vertex_normals(pi, v)"
   ]
  },
  {
   "cell_type": "code",
   "execution_count": 24,
   "metadata": {},
   "outputs": [],
   "source": [
    "step = 0.1\n",
    "newgrid, units_size, grid_step = set_newgrid(step, pi)"
   ]
  },
  {
   "cell_type": "code",
   "execution_count": 25,
   "metadata": {},
   "outputs": [],
   "source": [
    "constrained_p, constrained_v = acc_setUpConstraints(pi, ni, newgrid, units_size, grid_step)"
   ]
  },
  {
   "cell_type": "code",
   "execution_count": 26,
   "metadata": {},
   "outputs": [],
   "source": [
    "bbox_max = np.max(pi, axis = 0)\n",
    "bbox_min = np.min(pi, axis = 0)\n",
    "bbox_diag = np.linalg.norm(bbox_max - bbox_min) \n",
    "n = 10\n",
    "x, T = tet_grid((n,n,n), bbox_min - 0.05 * bbox_diag, bbox_max + 0.05 * bbox_diag)"
   ]
  },
  {
   "cell_type": "code",
   "execution_count": 27,
   "metadata": {},
   "outputs": [
    {
     "data": {
      "application/vnd.jupyter.widget-view+json": {
       "model_id": "ef754ef6dfbc4c02a5e2ffa753e9eac1",
       "version_major": 2,
       "version_minor": 0
      },
      "text/plain": [
       "Renderer(camera=PerspectiveCamera(children=(DirectionalLight(color='white', intensity=0.6, position=(5.0, -23.…"
      ]
     },
     "metadata": {},
     "output_type": "display_data"
    },
    {
     "data": {
      "text/plain": [
       "<meshplot.Viewer.Viewer at 0x1662e3a00>"
      ]
     },
     "execution_count": 27,
     "metadata": {},
     "output_type": "execute_result"
    }
   ],
   "source": [
    "k = 1\n",
    "wendlandRadius = bbox_diag * 0.1\n",
    "fx = np.array([acc_MLSImplicitFuction(xi, wendlandRadius, k, constrained_p, constrained_v, newgrid, units_size, grid_step) for xi in x])\n",
    "ind = np.zeros_like(fx)\n",
    "ind[fx >= 0] = 1\n",
    "ind[fx < 0] = -1\n",
    "color = np.zeros_like(x)\n",
    "color[fx < 0] = np.array([1, 0, 0])\n",
    "color[fx >= 0] = np.array([124/255, 252/255, 0])\n",
    "mp.plot(x, c=color, shading={\"point_size\": 4, \"width\": 800, \"height\": 800})"
   ]
  },
  {
   "cell_type": "markdown",
   "metadata": {},
   "source": [
    "# Extracting the surface"
   ]
  },
  {
   "cell_type": "code",
   "execution_count": 28,
   "metadata": {},
   "outputs": [
    {
     "data": {
      "application/vnd.jupyter.widget-view+json": {
       "model_id": "5bd5f9a65aa14de9ad5bc8670240b4dd",
       "version_major": 2,
       "version_minor": 0
      },
      "text/plain": [
       "Renderer(camera=PerspectiveCamera(children=(DirectionalLight(color='white', intensity=0.6, position=(5.6844348…"
      ]
     },
     "metadata": {},
     "output_type": "display_data"
    },
    {
     "data": {
      "text/plain": [
       "<meshplot.Viewer.Viewer at 0x1662e3070>"
      ]
     },
     "execution_count": 28,
     "metadata": {},
     "output_type": "execute_result"
    }
   ],
   "source": [
    "# Marcing tet to extract surface\n",
    "sv, sf, _, _ = igl.marching_tets(x, T, fx, 0)\n",
    "mp.plot(sv, sf, shading={\"wireframe\": True})"
   ]
  },
  {
   "cell_type": "code",
   "execution_count": 29,
   "metadata": {},
   "outputs": [],
   "source": [
    "def filterF(face):\n",
    "    f = igl.face_components(face)\n",
    "    components = []\n",
    "    for i in range(f.shape[0]):\n",
    "        if f[i] not in components:\n",
    "            components.append(f[i])\n",
    "    connected_components = np.zeros(len(components))\n",
    "    for i in range(f.shape[0]):\n",
    "        connected_components[f[i]] += 1\n",
    "    return face[f == np.argmax(connected_components)]"
   ]
  },
  {
   "cell_type": "code",
   "execution_count": 30,
   "metadata": {},
   "outputs": [
    {
     "data": {
      "application/vnd.jupyter.widget-view+json": {
       "model_id": "325c34812778407faa8db58a4a1b5785",
       "version_major": 2,
       "version_minor": 0
      },
      "text/plain": [
       "Renderer(camera=PerspectiveCamera(children=(DirectionalLight(color='white', intensity=0.6, position=(5.6844348…"
      ]
     },
     "metadata": {},
     "output_type": "display_data"
    },
    {
     "data": {
      "text/plain": [
       "<meshplot.Viewer.Viewer at 0x165c59a00>"
      ]
     },
     "execution_count": 30,
     "metadata": {},
     "output_type": "execute_result"
    }
   ],
   "source": [
    "mp.plot(sv, filterF(sf), shading={\"wireframe\": True}) "
   ]
  },
  {
   "cell_type": "code",
   "execution_count": 31,
   "metadata": {},
   "outputs": [],
   "source": [
    "# Experiment with different parameter settings: grid resolution (also anisotropic in the 3 axes), Wendland function radius, and polynomial degree.\n",
    "# change radius by changing the multiplier of bbox_diag\n",
    "# Para we have calculated:constrained_pi, target_v, pi,ni\n",
    "def extract_surface(data,res_x, res_y, res_z, polyDegree, diagRate, step, filter = True):\n",
    "    pi, v = igl.read_triangle_mesh(data)\n",
    "    pi /= 10\n",
    "    ni = igl.per_vertex_normals(pi, v)\n",
    "    newgrid, units_size, grid_step = set_newgrid(step, pi)\n",
    "    constrained_p, constrained_v = acc_setUpConstraints(pi, ni, newgrid, units_size, grid_step)\n",
    "    bbox_max = np.max(pi, axis = 0)\n",
    "    bbox_min = np.min(pi, axis = 0)\n",
    "    bbox_diag = np.linalg.norm(bbox_max - bbox_min) \n",
    "    wendlandRadius = bbox_diag * diagRate\n",
    "    x, T = tet_grid((res_x, res_y, res_z), bbox_min - 0.05 * bbox_diag, bbox_max + 0.05 * bbox_diag)  \n",
    "    fx = np.array([acc_MLSImplicitFuction(xi, wendlandRadius, polyDegree, constrained_p, constrained_v, newgrid, units_size, grid_step) for xi in x])    \n",
    "    sv, sf, _, _ = igl.marching_tets(x, T, fx, 0)\n",
    "    if filter:\n",
    "        mp.plot(sv, filterF(sf), shading={\"wireframe\": True})       \n",
    "    else:\n",
    "        mp.plot(sv, sf, shading={\"wireframe\": True})"
   ]
  },
  {
   "cell_type": "code",
   "execution_count": 32,
   "metadata": {},
   "outputs": [
    {
     "data": {
      "application/vnd.jupyter.widget-view+json": {
       "model_id": "ca0ccfba5fe148189de1a438e33d60d4",
       "version_major": 2,
       "version_minor": 0
      },
      "text/plain": [
       "Renderer(camera=PerspectiveCamera(children=(DirectionalLight(color='white', intensity=0.6, position=(2.4346818…"
      ]
     },
     "metadata": {},
     "output_type": "display_data"
    }
   ],
   "source": [
    "extract_surface(\"data/cat.off\", 20, 20, 20, 2, 0.1,0.1, filter = True)"
   ]
  },
  {
   "cell_type": "code",
   "execution_count": 33,
   "metadata": {},
   "outputs": [
    {
     "data": {
      "application/vnd.jupyter.widget-view+json": {
       "model_id": "2cb9f684d4744bc1adf166cca664f4b5",
       "version_major": 2,
       "version_minor": 0
      },
      "text/plain": [
       "Renderer(camera=PerspectiveCamera(children=(DirectionalLight(color='white', intensity=0.6, position=(9.1739492…"
      ]
     },
     "metadata": {},
     "output_type": "display_data"
    }
   ],
   "source": [
    "extract_surface(\"data/cat.off\", 30, 40, 35, 1, 0.2,0.1, filter = True)"
   ]
  },
  {
   "cell_type": "code",
   "execution_count": 34,
   "metadata": {},
   "outputs": [
    {
     "data": {
      "application/vnd.jupyter.widget-view+json": {
       "model_id": "6f868023294d4d64b11b57b45c11a4cb",
       "version_major": 2,
       "version_minor": 0
      },
      "text/plain": [
       "Renderer(camera=PerspectiveCamera(children=(DirectionalLight(color='white', intensity=0.6, position=(5.4415092…"
      ]
     },
     "metadata": {},
     "output_type": "display_data"
    }
   ],
   "source": [
    "extract_surface(\"data/cat.off\", 20, 35, 30, 1, 0.1,0.1, filter = True)"
   ]
  },
  {
   "cell_type": "markdown",
   "metadata": {},
   "source": [
    "# Using a non-axis-aligned grid.\n",
    "The point cloud luigi.off is not aligned with the canonical axes. Running reconstruction on an axis-aligned grid is wasteful in this case: many of the grid points will lie far outside the object. Devise an automatic (and general) way to align the grid to the data and implement it. \n",
    "\n",
    "Required output of this section:  \n",
    "Plot of the grid with nodes colored according to their implicit function values."
   ]
  },
  {
   "cell_type": "code",
   "execution_count": 35,
   "metadata": {},
   "outputs": [
    {
     "data": {
      "application/vnd.jupyter.widget-view+json": {
       "model_id": "3ac4d44e913343ff88fb97531c5670e3",
       "version_major": 2,
       "version_minor": 0
      },
      "text/plain": [
       "Renderer(camera=PerspectiveCamera(children=(DirectionalLight(color='white', intensity=0.6, position=(1.1287999…"
      ]
     },
     "metadata": {},
     "output_type": "display_data"
    },
    {
     "data": {
      "text/plain": [
       "<meshplot.Viewer.Viewer at 0x165629970>"
      ]
     },
     "execution_count": 35,
     "metadata": {},
     "output_type": "execute_result"
    }
   ],
   "source": [
    "#PCA？\n",
    "# Read Data\n",
    "p1, v1 = igl.read_triangle_mesh(\"data/luigi.off\")\n",
    "p1 /= 10\n",
    "n1 = igl.per_vertex_normals(p1, v1)\n",
    "mp.plot(p1, shading={\"point_size\": 0.6})"
   ]
  },
  {
   "cell_type": "code",
   "execution_count": 36,
   "metadata": {},
   "outputs": [],
   "source": [
    "def PCA(points,ni):\n",
    "    points -= np.mean(points, axis = 0)  \n",
    "    cov = np.cov(points, rowvar = False)\n",
    "    evals , evecs = scipy.linalg.eigh(cov)\n",
    "    idx = np.argsort(evals)[::-1]\n",
    "    evecs = evecs[:,idx]\n",
    "    evals = evals[idx]\n",
    "    return np.dot(points, evecs), np.dot(ni,evecs)"
   ]
  },
  {
   "cell_type": "code",
   "execution_count": 37,
   "metadata": {},
   "outputs": [],
   "source": [
    "new_p1, new_n1 = PCA(p1,n1)"
   ]
  },
  {
   "cell_type": "code",
   "execution_count": 38,
   "metadata": {},
   "outputs": [],
   "source": [
    "step = 0.1\n",
    "newgrid, units_size, grid_step = set_newgrid(step, new_p1)\n",
    "constrained_p1, constrained_v1 = acc_setUpConstraints(new_p1, new_n1,newgrid, units_size, grid_step)"
   ]
  },
  {
   "cell_type": "code",
   "execution_count": 39,
   "metadata": {},
   "outputs": [],
   "source": [
    "bbox_max = np.max(new_p1, axis = 0)\n",
    "bbox_min = np.min(new_p1, axis = 0)\n",
    "bbox_diag = np.linalg.norm(bbox_max - bbox_min) \n",
    "n=30\n",
    "x1, T1 = tet_grid((n, n, n), bbox_min - 0.05 * bbox_diag, bbox_max + 0.05 * bbox_diag)"
   ]
  },
  {
   "cell_type": "code",
   "execution_count": 40,
   "metadata": {},
   "outputs": [
    {
     "data": {
      "application/vnd.jupyter.widget-view+json": {
       "model_id": "1bf09b87a0244f93bf21144acb7f80bb",
       "version_major": 2,
       "version_minor": 0
      },
      "text/plain": [
       "Renderer(camera=PerspectiveCamera(children=(DirectionalLight(color='white', intensity=0.6, position=(-0.667772…"
      ]
     },
     "metadata": {},
     "output_type": "display_data"
    },
    {
     "data": {
      "text/plain": [
       "<meshplot.Viewer.Viewer at 0x165d75eb0>"
      ]
     },
     "execution_count": 40,
     "metadata": {},
     "output_type": "execute_result"
    }
   ],
   "source": [
    "k = 1\n",
    "wendlandRadius = bbox_diag * 0.1\n",
    "fx = np.array([acc_MLSImplicitFuction(x1i, wendlandRadius, k, constrained_p1, constrained_v1, newgrid, units_size, grid_step) for x1i in x1])\n",
    "# ind = np.zeros_like(fx)\n",
    "# ind[fx >= 0] = 1\n",
    "# ind[fx < 0] = -1\n",
    "color = np.zeros_like(x1)\n",
    "color[fx < 0] = np.array([1, 0, 0])\n",
    "color[fx >= 0] = np.array([124/255, 252/255, 0])\n",
    "mp.plot(x1, c=color, shading={\"point_size\": 0.5, \"width\": 800, \"height\": 800})\n"
   ]
  },
  {
   "cell_type": "markdown",
   "metadata": {},
   "source": [
    "# Screened Poisson Surface Reconstruction\n",
    "The picture generated by meshlab is shown below.\n",
    "It is more smooth with two axes and automatically fills holes"
   ]
  },
  {
   "cell_type": "code",
   "execution_count": 47,
   "metadata": {},
   "outputs": [
    {
     "data": {
      "text/html": [
       "<img src='./meshlabcat.png', width=600, height=600>\n"
      ],
      "text/plain": [
       "<IPython.core.display.HTML object>"
      ]
     },
     "metadata": {},
     "output_type": "display_data"
    }
   ],
   "source": [
    "%%html\n",
    "<img src='./meshlabcat.png', width=600, height=600>"
   ]
  },
  {
   "cell_type": "code",
   "execution_count": 48,
   "metadata": {},
   "outputs": [
    {
     "data": {
      "text/html": [
       "<img src='./meshlabluigi.png', width=600, height=600>\n"
      ],
      "text/plain": [
       "<IPython.core.display.HTML object>"
      ]
     },
     "metadata": {},
     "output_type": "display_data"
    }
   ],
   "source": [
    "%%html\n",
    "<img src='./meshlabluigi.png', width=600, height=600>"
   ]
  },
  {
   "cell_type": "code",
   "execution_count": null,
   "metadata": {},
   "outputs": [],
   "source": []
  }
 ],
 "metadata": {
  "kernelspec": {
   "display_name": "Python 3 (ipykernel)",
   "language": "python",
   "name": "python3"
  },
  "language_info": {
   "codemirror_mode": {
    "name": "ipython",
    "version": 3
   },
   "file_extension": ".py",
   "mimetype": "text/x-python",
   "name": "python",
   "nbconvert_exporter": "python",
   "pygments_lexer": "ipython3",
   "version": "3.9.10"
  }
 },
 "nbformat": 4,
 "nbformat_minor": 4
}
